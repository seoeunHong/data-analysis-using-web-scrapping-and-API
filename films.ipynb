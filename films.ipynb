{
 "cells": [
  {
   "cell_type": "markdown",
   "metadata": {},
   "source": [
    "# Part 2 - Using an API"
   ]
  },
  {
   "cell_type": "code",
   "execution_count": 33,
   "metadata": {
    "tags": []
   },
   "outputs": [],
   "source": [
    "import requests\n",
    "import pandas as pd\n",
    "import numpy as np"
   ]
  },
  {
   "cell_type": "markdown",
   "metadata": {},
   "source": [
    "## 1. Retrieve the data, and examine it."
   ]
  },
  {
   "cell_type": "code",
   "execution_count": 34,
   "metadata": {
    "tags": []
   },
   "outputs": [],
   "source": [
    "res = requests.get('http://linserv1.cims.nyu.edu:10000/films?_page=1')"
   ]
  },
  {
   "cell_type": "code",
   "execution_count": 35,
   "metadata": {
    "tags": []
   },
   "outputs": [],
   "source": [
    "data = res.json()"
   ]
  },
  {
   "cell_type": "code",
   "execution_count": 36,
   "metadata": {
    "tags": []
   },
   "outputs": [
    {
     "name": "stdout",
     "output_type": "stream",
     "text": [
      "Castle in the Sky film's dictionary information\n",
      "\n",
      "keys of the dictionary: dict_keys(['id', 'title', 'original_title', 'original_title_romanised', 'description', 'director', 'producer', 'release_date', 'running_time', 'rt_score', 'people', 'species', 'locations', 'vehicles', 'url'])\n",
      "\n",
      "values of the dictionary: dict_values(['2baf70d1-42bb-4437-b551-e5fed5a87abe', 'Castle in the Sky', '天空の城ラピュタ', 'Tenkū no shiro Rapyuta', \"The orphan Sheeta inherited a mysterious crystal that links her to the mythical sky-kingdom of Laputa. With the help of resourceful Pazu and a rollicking band of sky pirates, she makes her way to the ruins of the once-great civilization. Sheeta and Pazu must outwit the evil Muska, who plans to use Laputa's science to make himself ruler of the world.\", 'Hayao Miyazaki', 'Isao Takahata', '1986', '124', '95', ['https://ghibliapi.herokuapp.com/people/'], ['https://ghibliapi.herokuapp.com/species/af3910a6-429f-4c74-9ad5-dfe1c4aa04f2'], ['https://ghibliapi.herokuapp.com/locations/'], ['https://ghibliapi.herokuapp.com/vehicles/'], 'https://ghibliapi.herokuapp.com/films/2baf70d1-42bb-4437-b551-e5fed5a87abe'])\n",
      "\n",
      "\n",
      "Grave of the Fireflies film's dictionary information\n",
      "\n",
      "keys of the dictionary: dict_keys(['id', 'title', 'original_title', 'original_title_romanised', 'description', 'director', 'producer', 'release_date', 'running_time', 'rt_score', 'people', 'species', 'locations', 'vehicles', 'url'])\n",
      "\n",
      "values of the dictionary: dict_values(['12cfb892-aac0-4c5b-94af-521852e46d6a', 'Grave of the Fireflies', '火垂るの墓', 'Hotaru no haka', 'In the latter part of World War II, a boy and his sister, orphaned when their mother is killed in the firebombing of Tokyo, are left to survive on their own in what remains of civilian life in Japan. The plot follows this boy and his sister as they do their best to survive in the Japanese countryside, battling hunger, prejudice, and pride in their own quiet, personal battle.', 'Isao Takahata', 'Toru Hara', '1988', '89', '97', ['https://ghibliapi.herokuapp.com/people/'], ['https://ghibliapi.herokuapp.com/species/af3910a6-429f-4c74-9ad5-dfe1c4aa04f2'], ['https://ghibliapi.herokuapp.com/locations/'], ['https://ghibliapi.herokuapp.com/vehicles/'], 'https://ghibliapi.herokuapp.com/films/12cfb892-aac0-4c5b-94af-521852e46d6a'])\n",
      "\n",
      "\n",
      "My Neighbor Totoro film's dictionary information\n",
      "\n",
      "keys of the dictionary: dict_keys(['id', 'title', 'original_title', 'original_title_romanised', 'description', 'director', 'producer', 'release_date', 'running_time', 'rt_score', 'people', 'species', 'locations', 'vehicles', 'url'])\n",
      "\n",
      "values of the dictionary: dict_values(['58611129-2dbc-4a81-a72f-77ddfc1b1b49', 'My Neighbor Totoro', 'となりのトトロ', 'Tonari no Totoro', 'Two sisters move to the country with their father in order to be closer to their hospitalized mother, and discover the surrounding trees are inhabited by Totoros, magical spirits of the forest. When the youngest runs away from home, the older sister seeks help from the spirits to find her.', 'Hayao Miyazaki', 'Hayao Miyazaki', '1988', '86', '93', ['https://ghibliapi.herokuapp.com/people/986faac6-67e3-4fb8-a9ee-bad077c2e7fe', 'https://ghibliapi.herokuapp.com/people/d5df3c04-f355-4038-833c-83bd3502b6b9', 'https://ghibliapi.herokuapp.com/people/3031caa8-eb1a-41c6-ab93-dd091b541e11', 'https://ghibliapi.herokuapp.com/people/87b68b97-3774-495b-bf80-495a5f3e672d', 'https://ghibliapi.herokuapp.com/people/d39deecb-2bd0-4770-8b45-485f26e1381f', 'https://ghibliapi.herokuapp.com/people/591524bc-04fe-4e60-8d61-2425e42ffb2a', 'https://ghibliapi.herokuapp.com/people/c491755a-407d-4d6e-b58a-240ec78b5061', 'https://ghibliapi.herokuapp.com/people/f467e18e-3694-409f-bdb3-be891ade1106', 'https://ghibliapi.herokuapp.com/people/08ffbce4-7f94-476a-95bc-76d3c3969c19', 'https://ghibliapi.herokuapp.com/people/0f8ef701-b4c7-4f15-bd15-368c7fe38d0a'], ['https://ghibliapi.herokuapp.com/species/af3910a6-429f-4c74-9ad5-dfe1c4aa04f2', 'https://ghibliapi.herokuapp.com/species/603428ba-8a86-4b0b-a9f1-65df6abef3d3', 'https://ghibliapi.herokuapp.com/species/74b7f547-1577-4430-806c-c358c8b6bcf5'], ['https://ghibliapi.herokuapp.com/locations/'], ['https://ghibliapi.herokuapp.com/vehicles/'], 'https://ghibliapi.herokuapp.com/films/58611129-2dbc-4a81-a72f-77ddfc1b1b49'])\n",
      "\n",
      "\n",
      "Kiki's Delivery Service film's dictionary information\n",
      "\n",
      "keys of the dictionary: dict_keys(['id', 'title', 'original_title', 'original_title_romanised', 'description', 'director', 'producer', 'release_date', 'running_time', 'rt_score', 'people', 'species', 'locations', 'vehicles', 'url'])\n",
      "\n",
      "values of the dictionary: dict_values(['ea660b10-85c4-4ae3-8a5f-41cea3648e3e', \"Kiki's Delivery Service\", '魔女の宅急便', 'Majo no takkyūbin', 'A young witch, on her mandatory year of independent life, finds fitting into a new community difficult while she supports herself by running an air courier service.', 'Hayao Miyazaki', 'Hayao Miyazaki', '1989', '102', '96', ['https://ghibliapi.herokuapp.com/people/'], ['https://ghibliapi.herokuapp.com/species/af3910a6-429f-4c74-9ad5-dfe1c4aa04f2'], ['https://ghibliapi.herokuapp.com/locations/'], ['https://ghibliapi.herokuapp.com/vehicles/'], 'https://ghibliapi.herokuapp.com/films/ea660b10-85c4-4ae3-8a5f-41cea3648e3e'])\n",
      "\n",
      "\n",
      "Only Yesterday film's dictionary information\n",
      "\n",
      "keys of the dictionary: dict_keys(['id', 'title', 'original_title', 'original_title_romanised', 'description', 'director', 'producer', 'release_date', 'running_time', 'rt_score', 'people', 'species', 'locations', 'vehicles', 'url'])\n",
      "\n",
      "values of the dictionary: dict_values(['4e236f34-b981-41c3-8c65-f8c9000b94e7', 'Only Yesterday', 'おもひでぽろぽろ', 'Omoide poro poro', 'It’s 1982, and Taeko is 27 years old, unmarried, and has lived her whole life in Tokyo. She decides to visit her family in the countryside, and as the train travels through the night, memories flood back of her younger years: the first immature stirrings of romance, the onset of puberty, and the frustrations of math and boys. At the station she is met by young farmer Toshio, and the encounters with him begin to reconnect her to forgotten longings. In lyrical switches between the present and the past, Taeko contemplates the arc of her life, and wonders if she has been true to the dreams of her childhood self.', 'Isao Takahata', 'Toshio Suzuki', '1991', '118', '100', ['https://ghibliapi.herokuapp.com/people/'], ['https://ghibliapi.herokuapp.com/species/af3910a6-429f-4c74-9ad5-dfe1c4aa04f2'], ['https://ghibliapi.herokuapp.com/locations/'], ['https://ghibliapi.herokuapp.com/vehicles/'], 'https://ghibliapi.herokuapp.com/films/4e236f34-b981-41c3-8c65-f8c9000b94e7'])\n",
      "\n",
      "\n",
      "Porco Rosso film's dictionary information\n",
      "\n",
      "keys of the dictionary: dict_keys(['id', 'title', 'original_title', 'original_title_romanised', 'description', 'director', 'producer', 'release_date', 'running_time', 'rt_score', 'people', 'species', 'locations', 'vehicles', 'url'])\n",
      "\n",
      "values of the dictionary: dict_values(['ebbb6b7c-945c-41ee-a792-de0e43191bd8', 'Porco Rosso', '紅の豚', 'Kurenai no buta', \"Porco Rosso, known in Japan as Crimson Pig (Kurenai no Buta) is the sixth animated film by Hayao Miyazaki and released in 1992. You're introduced to an Italian World War I fighter ace, now living as a freelance bounty hunter chasing 'air pirates' in the Adriatic Sea. He has been given a curse that changed his head to that of a pig. Once called Marco Pagot, he is now known to the world as 'Porco Rosso', Italian for 'Red Pig.'\", 'Hayao Miyazaki', 'Toshio Suzuki', '1992', '93', '94', ['https://ghibliapi.herokuapp.com/people/'], ['https://ghibliapi.herokuapp.com/species/af3910a6-429f-4c74-9ad5-dfe1c4aa04f2'], ['https://ghibliapi.herokuapp.com/locations/'], ['https://ghibliapi.herokuapp.com/vehicles/'], 'https://ghibliapi.herokuapp.com/films/ebbb6b7c-945c-41ee-a792-de0e43191bd8'])\n",
      "\n",
      "\n",
      "Pom Poko film's dictionary information\n",
      "\n",
      "keys of the dictionary: dict_keys(['id', 'title', 'original_title', 'original_title_romanised', 'description', 'director', 'producer', 'release_date', 'running_time', 'rt_score', 'people', 'species', 'locations', 'vehicles', 'url'])\n",
      "\n",
      "values of the dictionary: dict_values(['1b67aa9a-2e4a-45af-ac98-64d6ad15b16c', 'Pom Poko', '平成狸合戦ぽんぽこ', 'Heisei tanuki gassen Ponpoko', \"As the human city development encroaches on the raccoon population's forest and meadow habitat, the raccoons find themselves faced with the very real possibility of extinction. In response, the raccoons engage in a desperate struggle to stop the construction and preserve their home.\", 'Isao Takahata', 'Toshio Suzuki', '1994', '119', '78', ['https://ghibliapi.herokuapp.com/people/'], ['https://ghibliapi.herokuapp.com/species/af3910a6-429f-4c74-9ad5-dfe1c4aa04f2'], ['https://ghibliapi.herokuapp.com/locations/'], ['https://ghibliapi.herokuapp.com/vehicles/'], 'https://ghibliapi.herokuapp.com/films/1b67aa9a-2e4a-45af-ac98-64d6ad15b16c'])\n",
      "\n",
      "\n",
      "Whisper of the Heart film's dictionary information\n",
      "\n",
      "keys of the dictionary: dict_keys(['id', 'title', 'original_title', 'original_title_romanised', 'description', 'director', 'producer', 'release_date', 'running_time', 'rt_score', 'people', 'species', 'locations', 'vehicles', 'url'])\n",
      "\n",
      "values of the dictionary: dict_values(['ff24da26-a969-4f0e-ba1e-a122ead6c6e3', 'Whisper of the Heart', '耳をすませば', 'Mimi wo sumaseba', \"Shizuku lives a simple life, dominated by her love for stories and writing. One day she notices that all the library books she has have been previously checked out by the same person: 'Seiji Amasawa'. Curious as to who he is, Shizuku meets a boy her age whom she finds infuriating, but discovers to her shock that he is her 'Prince of Books'. As she grows closer to him, she realises that he merely read all those books to bring himself closer to her. The boy Seiji aspires to be a violin maker in Italy, and it is his dreams that make Shizuku realise that she has no clear path for her life. Knowing that her strength lies in writing, she tests her talents by writing a story about Baron, a cat statuette belonging to Seiji's grandfather.\", 'Yoshifumi Kondō', 'Toshio Suzuki', '1995', '111', '91', ['https://ghibliapi.herokuapp.com/people/'], ['https://ghibliapi.herokuapp.com/species/af3910a6-429f-4c74-9ad5-dfe1c4aa04f2'], ['https://ghibliapi.herokuapp.com/locations/'], ['https://ghibliapi.herokuapp.com/vehicles/'], 'https://ghibliapi.herokuapp.com/films/ff24da26-a969-4f0e-ba1e-a122ead6c6e3'])\n",
      "\n",
      "\n",
      "Princess Mononoke film's dictionary information\n",
      "\n",
      "keys of the dictionary: dict_keys(['id', 'title', 'original_title', 'original_title_romanised', 'description', 'director', 'producer', 'release_date', 'running_time', 'rt_score', 'people', 'species', 'locations', 'vehicles', 'url'])\n",
      "\n",
      "values of the dictionary: dict_values(['0440483e-ca0e-4120-8c50-4c8cd9b965d6', 'Princess Mononoke', 'もののけ姫', 'Mononoke hime', 'Ashitaka, a prince of the disappearing Ainu tribe, is cursed by a demonized boar god and must journey to the west to find a cure. Along the way, he encounters San, a young human woman fighting to protect the forest, and Lady Eboshi, who is trying to destroy it. Ashitaka must find a way to bring balance to this conflict.', 'Hayao Miyazaki', 'Toshio Suzuki', '1997', '134', '92', ['https://ghibliapi.herokuapp.com/people/ba924631-068e-4436-b6de-f3283fa848f0', 'https://ghibliapi.herokuapp.com/people/ebe40383-aad2-4208-90ab-698f00c581ab', 'https://ghibliapi.herokuapp.com/people/030555b3-4c92-4fce-93fb-e70c3ae3df8b', 'https://ghibliapi.herokuapp.com/people/ca568e87-4ce2-4afa-a6c5-51f4ae80a60b', 'https://ghibliapi.herokuapp.com/people/e9356bb5-4d4a-4c93-aadc-c83e514bffe3', 'https://ghibliapi.herokuapp.com/people/34277bec-7401-43fa-a00a-5aee64b45b08', 'https://ghibliapi.herokuapp.com/people/91939012-90b9-46e5-a649-96b898073c82', 'https://ghibliapi.herokuapp.com/people/20e3bd33-b35d-41e6-83a4-57ca7f028d38', 'https://ghibliapi.herokuapp.com/people/8bccdc78-545b-49f4-a4c8-756163a38c91', 'https://ghibliapi.herokuapp.com/people/116bfe1b-3ba8-4fa0-8f72-88537a493cb9'], ['https://ghibliapi.herokuapp.com/species/af3910a6-429f-4c74-9ad5-dfe1c4aa04f2', 'https://ghibliapi.herokuapp.com/species/6bc92fdd-b0f4-4286-ad71-1f99fb4a0d1e', 'https://ghibliapi.herokuapp.com/species/f25fa661-3073-414d-968a-ab062e3065f7'], ['https://ghibliapi.herokuapp.com/locations/'], ['https://ghibliapi.herokuapp.com/vehicles/'], 'https://ghibliapi.herokuapp.com/films/0440483e-ca0e-4120-8c50-4c8cd9b965d6'])\n",
      "\n",
      "\n",
      "My Neighbors the Yamadas film's dictionary information\n",
      "\n",
      "keys of the dictionary: dict_keys(['id', 'title', 'original_title', 'original_title_romanised', 'description', 'director', 'producer', 'release_date', 'running_time', 'rt_score', 'people', 'species', 'locations', 'vehicles', 'url'])\n",
      "\n",
      "values of the dictionary: dict_values(['45204234-adfd-45cb-a505-a8e7a676b114', 'My Neighbors the Yamadas', 'ホーホケキョ となりの山田くん', 'Hōhokekyo tonari no Yamada-kun', \"The Yamadas are a typical middle class Japanese family in urban Tokyo and this film shows us a variety of episodes of their lives. With tales that range from the humourous to the heartbreaking, we see this family cope with life's little conflicts, problems and joys in their own way.\", 'Isao Takahata', 'Toshio Suzuki', '1999', '104', '75', ['https://ghibliapi.herokuapp.com/people/'], ['https://ghibliapi.herokuapp.com/species/af3910a6-429f-4c74-9ad5-dfe1c4aa04f2'], ['https://ghibliapi.herokuapp.com/locations/'], ['https://ghibliapi.herokuapp.com/vehicles/'], 'https://ghibliapi.herokuapp.com/films/45204234-adfd-45cb-a505-a8e7a676b114'])\n",
      "\n",
      "\n"
     ]
    }
   ],
   "source": [
    "for film in data:\n",
    "    print(\"{} film's dictionary information\\n\".format(film['title']))\n",
    "    print(\"keys of the dictionary: {}\\n\".format(film.keys()))\n",
    "    print(\"values of the dictionary: {}\".format(film.values()))\n",
    "    print(\"\\n\")"
   ]
  },
  {
   "cell_type": "markdown",
   "metadata": {},
   "source": [
    "To creat the report, I need to extract `director` and `rt_score` from the dictionary"
   ]
  },
  {
   "cell_type": "code",
   "execution_count": 37,
   "metadata": {
    "tags": []
   },
   "outputs": [
    {
     "data": {
      "text/plain": [
       "{'id': 'dc2e6bd1-8156-4886-adff-b39e6043af0c',\n",
       " 'title': 'Spirited Away',\n",
       " 'original_title': '千と千尋の神隠し',\n",
       " 'original_title_romanised': 'Sen to Chihiro no kamikakushi',\n",
       " 'description': 'Spirited Away is an Oscar winning Japanese animated film about a ten year old girl who wanders away from her parents along a path that leads to a world ruled by strange and unusual monster-like animals. Her parents have been changed into pigs along with others inside a bathhouse full of these creatures. Will she ever see the world how it once was?',\n",
       " 'director': 'Hayao Miyazaki',\n",
       " 'producer': 'Toshio Suzuki',\n",
       " 'release_date': '2001',\n",
       " 'running_time': '124',\n",
       " 'rt_score': '97',\n",
       " 'people': ['https://ghibliapi.herokuapp.com/people/'],\n",
       " 'species': ['https://ghibliapi.herokuapp.com/species/af3910a6-429f-4c74-9ad5-dfe1c4aa04f2'],\n",
       " 'locations': ['https://ghibliapi.herokuapp.com/locations/'],\n",
       " 'vehicles': ['https://ghibliapi.herokuapp.com/vehicles/'],\n",
       " 'url': 'https://ghibliapi.herokuapp.com/films/dc2e6bd1-8156-4886-adff-b39e6043af0c'}"
      ]
     },
     "execution_count": 37,
     "metadata": {},
     "output_type": "execute_result"
    }
   ],
   "source": [
    "res = requests.get('http://linserv1.cims.nyu.edu:10000/films?_page=2')\n",
    "data = res.json()\n",
    "data[0]"
   ]
  },
  {
   "cell_type": "code",
   "execution_count": 38,
   "metadata": {
    "tags": []
   },
   "outputs": [
    {
     "name": "stdout",
     "output_type": "stream",
     "text": [
      "Page 1 has data\n",
      "Page 2 has data\n",
      "Page 3 has data\n",
      "No more data after Page 4\n"
     ]
    }
   ],
   "source": [
    "i = 1\n",
    "while True:\n",
    "    url = 'http://linserv1.cims.nyu.edu:10000/films?_page='\n",
    "    res = requests.get(url + str(i))\n",
    "    data = res.json()\n",
    "    if data:\n",
    "        print(\"Page {} has data\".format(i))\n",
    "    else:\n",
    "        print(\"No more data after Page {}\".format(i))\n",
    "        break\n",
    "    i += 1"
   ]
  },
  {
   "cell_type": "markdown",
   "metadata": {},
   "source": [
    "When I modify the url (number of page), it returns different data which means that if we put different number after `films?_page=` of the url we can get different data of different page. Therefore, using while loop, I tried to get the range of the page we can get the data from. Seems like Page 1 - 3 has data in it, but from page 4, it does not return any data to us. Therefore, we will iterate through page 1 to 3 to get whole data of ghibli films."
   ]
  },
  {
   "cell_type": "markdown",
   "metadata": {},
   "source": [
    "## 2. Load the data into a DataFrame"
   ]
  },
  {
   "cell_type": "code",
   "execution_count": 39,
   "metadata": {
    "tags": []
   },
   "outputs": [],
   "source": [
    "ghibli_films = pd.DataFrame()\n",
    "for page in range(1,4):\n",
    "    url = 'http://linserv1.cims.nyu.edu:10000/films?_page=' + str(page)\n",
    "    res = requests.get(url)\n",
    "    data = res.json()\n",
    "    this_page_info = pd.DataFrame(data)[['director', 'rt_score']]\n",
    "    ghibli_films = pd.concat([ghibli_films, this_page_info])"
   ]
  },
  {
   "cell_type": "code",
   "execution_count": 40,
   "metadata": {
    "tags": []
   },
   "outputs": [],
   "source": [
    "ghibli_films['rt_score'] = pd.to_numeric(ghibli_films['rt_score'], errors='coerce')"
   ]
  },
  {
   "cell_type": "code",
   "execution_count": 41,
   "metadata": {
    "tags": []
   },
   "outputs": [
    {
     "data": {
      "text/html": [
       "<div>\n",
       "<style scoped>\n",
       "    .dataframe tbody tr th:only-of-type {\n",
       "        vertical-align: middle;\n",
       "    }\n",
       "\n",
       "    .dataframe tbody tr th {\n",
       "        vertical-align: top;\n",
       "    }\n",
       "\n",
       "    .dataframe thead th {\n",
       "        text-align: right;\n",
       "    }\n",
       "</style>\n",
       "<table border=\"1\" class=\"dataframe\">\n",
       "  <thead>\n",
       "    <tr style=\"text-align: right;\">\n",
       "      <th></th>\n",
       "      <th>director</th>\n",
       "      <th>rt_score</th>\n",
       "    </tr>\n",
       "  </thead>\n",
       "  <tbody>\n",
       "    <tr>\n",
       "      <th>0</th>\n",
       "      <td>Hayao Miyazaki</td>\n",
       "      <td>95</td>\n",
       "    </tr>\n",
       "    <tr>\n",
       "      <th>1</th>\n",
       "      <td>Isao Takahata</td>\n",
       "      <td>97</td>\n",
       "    </tr>\n",
       "    <tr>\n",
       "      <th>2</th>\n",
       "      <td>Hayao Miyazaki</td>\n",
       "      <td>93</td>\n",
       "    </tr>\n",
       "    <tr>\n",
       "      <th>3</th>\n",
       "      <td>Hayao Miyazaki</td>\n",
       "      <td>96</td>\n",
       "    </tr>\n",
       "    <tr>\n",
       "      <th>4</th>\n",
       "      <td>Isao Takahata</td>\n",
       "      <td>100</td>\n",
       "    </tr>\n",
       "    <tr>\n",
       "      <th>5</th>\n",
       "      <td>Hayao Miyazaki</td>\n",
       "      <td>94</td>\n",
       "    </tr>\n",
       "    <tr>\n",
       "      <th>6</th>\n",
       "      <td>Isao Takahata</td>\n",
       "      <td>78</td>\n",
       "    </tr>\n",
       "    <tr>\n",
       "      <th>7</th>\n",
       "      <td>Yoshifumi Kondō</td>\n",
       "      <td>91</td>\n",
       "    </tr>\n",
       "    <tr>\n",
       "      <th>8</th>\n",
       "      <td>Hayao Miyazaki</td>\n",
       "      <td>92</td>\n",
       "    </tr>\n",
       "    <tr>\n",
       "      <th>9</th>\n",
       "      <td>Isao Takahata</td>\n",
       "      <td>75</td>\n",
       "    </tr>\n",
       "    <tr>\n",
       "      <th>0</th>\n",
       "      <td>Hayao Miyazaki</td>\n",
       "      <td>97</td>\n",
       "    </tr>\n",
       "    <tr>\n",
       "      <th>1</th>\n",
       "      <td>Hiroyuki Morita</td>\n",
       "      <td>89</td>\n",
       "    </tr>\n",
       "    <tr>\n",
       "      <th>2</th>\n",
       "      <td>Hayao Miyazaki</td>\n",
       "      <td>87</td>\n",
       "    </tr>\n",
       "    <tr>\n",
       "      <th>3</th>\n",
       "      <td>Gorō Miyazaki</td>\n",
       "      <td>41</td>\n",
       "    </tr>\n",
       "    <tr>\n",
       "      <th>4</th>\n",
       "      <td>Hayao Miyazaki</td>\n",
       "      <td>92</td>\n",
       "    </tr>\n",
       "    <tr>\n",
       "      <th>5</th>\n",
       "      <td>Hiromasa Yonebayashi</td>\n",
       "      <td>95</td>\n",
       "    </tr>\n",
       "    <tr>\n",
       "      <th>6</th>\n",
       "      <td>Gorō Miyazaki</td>\n",
       "      <td>83</td>\n",
       "    </tr>\n",
       "    <tr>\n",
       "      <th>7</th>\n",
       "      <td>Hayao Miyazaki</td>\n",
       "      <td>89</td>\n",
       "    </tr>\n",
       "    <tr>\n",
       "      <th>8</th>\n",
       "      <td>Isao Takahata</td>\n",
       "      <td>100</td>\n",
       "    </tr>\n",
       "    <tr>\n",
       "      <th>9</th>\n",
       "      <td>Hiromasa Yonebayashi</td>\n",
       "      <td>92</td>\n",
       "    </tr>\n",
       "    <tr>\n",
       "      <th>0</th>\n",
       "      <td>Michaël Dudok de Wit</td>\n",
       "      <td>93</td>\n",
       "    </tr>\n",
       "  </tbody>\n",
       "</table>\n",
       "</div>"
      ],
      "text/plain": [
       "               director  rt_score\n",
       "0        Hayao Miyazaki        95\n",
       "1         Isao Takahata        97\n",
       "2        Hayao Miyazaki        93\n",
       "3        Hayao Miyazaki        96\n",
       "4         Isao Takahata       100\n",
       "5        Hayao Miyazaki        94\n",
       "6         Isao Takahata        78\n",
       "7       Yoshifumi Kondō        91\n",
       "8        Hayao Miyazaki        92\n",
       "9         Isao Takahata        75\n",
       "0        Hayao Miyazaki        97\n",
       "1       Hiroyuki Morita        89\n",
       "2        Hayao Miyazaki        87\n",
       "3         Gorō Miyazaki        41\n",
       "4        Hayao Miyazaki        92\n",
       "5  Hiromasa Yonebayashi        95\n",
       "6         Gorō Miyazaki        83\n",
       "7        Hayao Miyazaki        89\n",
       "8         Isao Takahata       100\n",
       "9  Hiromasa Yonebayashi        92\n",
       "0  Michaël Dudok de Wit        93"
      ]
     },
     "execution_count": 41,
     "metadata": {},
     "output_type": "execute_result"
    }
   ],
   "source": [
    "ghibli_films"
   ]
  },
  {
   "cell_type": "code",
   "execution_count": 42,
   "metadata": {
    "tags": []
   },
   "outputs": [
    {
     "name": "stdout",
     "output_type": "stream",
     "text": [
      "<class 'pandas.core.frame.DataFrame'>\n",
      "Int64Index: 21 entries, 0 to 0\n",
      "Data columns (total 2 columns):\n",
      " #   Column    Non-Null Count  Dtype \n",
      "---  ------    --------------  ----- \n",
      " 0   director  21 non-null     object\n",
      " 1   rt_score  21 non-null     int64 \n",
      "dtypes: int64(1), object(1)\n",
      "memory usage: 504.0+ bytes\n"
     ]
    }
   ],
   "source": [
    "ghibli_films.info()"
   ]
  },
  {
   "cell_type": "markdown",
   "metadata": {},
   "source": [
    "## 3. Report"
   ]
  },
  {
   "cell_type": "code",
   "execution_count": 43,
   "metadata": {
    "tags": []
   },
   "outputs": [],
   "source": [
    "avg_rt_score = ghibli_films.groupby(ghibli_films['director']).mean().sort_values('rt_score',ascending=False)\n",
    "avg_rt_score = avg_rt_score['rt_score'].reset_index(name='avg_rt_score')"
   ]
  },
  {
   "cell_type": "code",
   "execution_count": 44,
   "metadata": {
    "tags": []
   },
   "outputs": [],
   "source": [
    "count = ghibli_films.groupby(ghibli_films['director']).size().reset_index(name ='count')"
   ]
  },
  {
   "cell_type": "code",
   "execution_count": 45,
   "metadata": {
    "tags": []
   },
   "outputs": [],
   "source": [
    "ghibli_film_info = pd.merge(avg_rt_score, count, on = 'director',how='left').set_index('director')"
   ]
  },
  {
   "cell_type": "code",
   "execution_count": 46,
   "metadata": {
    "tags": []
   },
   "outputs": [
    {
     "data": {
      "text/html": [
       "<div>\n",
       "<style scoped>\n",
       "    .dataframe tbody tr th:only-of-type {\n",
       "        vertical-align: middle;\n",
       "    }\n",
       "\n",
       "    .dataframe tbody tr th {\n",
       "        vertical-align: top;\n",
       "    }\n",
       "\n",
       "    .dataframe thead th {\n",
       "        text-align: right;\n",
       "    }\n",
       "</style>\n",
       "<table border=\"1\" class=\"dataframe\">\n",
       "  <thead>\n",
       "    <tr style=\"text-align: right;\">\n",
       "      <th></th>\n",
       "      <th>avg_rt_score</th>\n",
       "      <th>count</th>\n",
       "    </tr>\n",
       "    <tr>\n",
       "      <th>director</th>\n",
       "      <th></th>\n",
       "      <th></th>\n",
       "    </tr>\n",
       "  </thead>\n",
       "  <tbody>\n",
       "    <tr>\n",
       "      <th>Hiromasa Yonebayashi</th>\n",
       "      <td>93.500000</td>\n",
       "      <td>2</td>\n",
       "    </tr>\n",
       "    <tr>\n",
       "      <th>Michaël Dudok de Wit</th>\n",
       "      <td>93.000000</td>\n",
       "      <td>1</td>\n",
       "    </tr>\n",
       "    <tr>\n",
       "      <th>Hayao Miyazaki</th>\n",
       "      <td>92.777778</td>\n",
       "      <td>9</td>\n",
       "    </tr>\n",
       "    <tr>\n",
       "      <th>Yoshifumi Kondō</th>\n",
       "      <td>91.000000</td>\n",
       "      <td>1</td>\n",
       "    </tr>\n",
       "    <tr>\n",
       "      <th>Isao Takahata</th>\n",
       "      <td>90.000000</td>\n",
       "      <td>5</td>\n",
       "    </tr>\n",
       "    <tr>\n",
       "      <th>Hiroyuki Morita</th>\n",
       "      <td>89.000000</td>\n",
       "      <td>1</td>\n",
       "    </tr>\n",
       "    <tr>\n",
       "      <th>Gorō Miyazaki</th>\n",
       "      <td>62.000000</td>\n",
       "      <td>2</td>\n",
       "    </tr>\n",
       "  </tbody>\n",
       "</table>\n",
       "</div>"
      ],
      "text/plain": [
       "                      avg_rt_score  count\n",
       "director                                 \n",
       "Hiromasa Yonebayashi     93.500000      2\n",
       "Michaël Dudok de Wit     93.000000      1\n",
       "Hayao Miyazaki           92.777778      9\n",
       "Yoshifumi Kondō          91.000000      1\n",
       "Isao Takahata            90.000000      5\n",
       "Hiroyuki Morita          89.000000      1\n",
       "Gorō Miyazaki            62.000000      2"
      ]
     },
     "execution_count": 46,
     "metadata": {},
     "output_type": "execute_result"
    }
   ],
   "source": [
    "ghibli_film_info"
   ]
  }
 ],
 "metadata": {
  "kernelspec": {
   "display_name": "Python 3 (ipykernel)",
   "language": "python",
   "name": "python3"
  },
  "language_info": {
   "codemirror_mode": {
    "name": "ipython",
    "version": 3
   },
   "file_extension": ".py",
   "mimetype": "text/x-python",
   "name": "python",
   "nbconvert_exporter": "python",
   "pygments_lexer": "ipython3",
   "version": "3.10.4"
  }
 },
 "nbformat": 4,
 "nbformat_minor": 4
}
